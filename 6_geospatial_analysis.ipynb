{
 "cells": [
  {
   "cell_type": "markdown",
   "id": "1c3926b6-9429-4a43-98d3-0c92c13ef871",
   "metadata": {},
   "source": [
    "# Geospatial Analysis "
   ]
  },
  {
   "cell_type": "markdown",
   "id": "aa5c8854-9973-4656-bc16-4bfa017b4c22",
   "metadata": {},
   "source": [
    "In this section, we will cover some super basic geospatial analysis with Python. Since we have latitude and longitude coordinates with some of our bird strike data, it might make sense if we plot it to see if we can spot some geographic trends. Granted, doing thorough analysis would warrant bringing in flight schedules and other outside data, but we will learn just enough to get our feet wet. "
   ]
  },
  {
   "cell_type": "markdown",
   "id": "87c6833b-ef5d-4c0d-82bf-dcdf4a326d69",
   "metadata": {},
   "source": [
    "## Basic Map Using Geopandas "
   ]
  },
  {
   "cell_type": "markdown",
   "id": "11fc7e25-b94c-420c-8973-df871760a074",
   "metadata": {},
   "source": [
    "**Geospatial analysis** is using GIS and map layers to make sense of geographic patterns in data. It's working with geographic maps. There is a useful library called Geopandas for dealing with geospatial analysis, and it extends Pandas with a simple and clever feature: it adds a `geometry` column to given dataframe. \n",
    "\n",
    "Getting mapping data can be pretty involved, but there is a [Natural Earth](https://www.naturalearthdata.com/) site that provides some free mapping datasets to work with. I have downloaded a few of these datasets already alongside this notebook. Let's bring in the \"countries\" file and display it. "
   ]
  },
  {
   "cell_type": "code",
   "execution_count": null,
   "id": "d329010e-5bd4-4d4c-a5ba-0c89335d8b57",
   "metadata": {},
   "outputs": [],
   "source": [
    "import geopandas as gpd\n",
    "import matplotlib.pyplot as plt\n",
    "\n",
    "# Download the world shapefile from Natural Earth's website\n",
    "world = gpd.read_file(r\"resource/ne_110m_admin_0_countries/ne_110m_admin_0_countries.shp\")\n",
    "\n",
    "# Plot the world map\n",
    "ax = world.plot()\n",
    "\n",
    "# Show the plot\n",
    "plt.show()"
   ]
  },
  {
   "cell_type": "markdown",
   "id": "96e0bd52-0a6d-4a7e-9f86-2784a9e72fac",
   "metadata": {},
   "source": [
    "That gives us a map of the world. Very nice. But what exactly is this object we read from a file in `geopandas`? "
   ]
  },
  {
   "cell_type": "code",
   "execution_count": null,
   "id": "7804e48f-3127-4d40-99a9-cd325b1c03c9",
   "metadata": {},
   "outputs": [],
   "source": [
    "world"
   ]
  },
  {
   "cell_type": "markdown",
   "id": "a7eed3f4-fd28-4bea-8bcc-78901d14495a",
   "metadata": {},
   "source": [
    "If this looks like a `DataFrame`, that's because it is. More correctly, it is a `GeoDataFrame` and what sets it apart is it has a `geometry` column to handle the mapping representation of each record. \n",
    "\n",
    "There are some familiar and useful Pandas functions we can do with a `GeoDataFrame`. For example, I can only grab records that are sovereign to the United States of America. "
   ]
  },
  {
   "cell_type": "code",
   "execution_count": null,
   "id": "b2c30242-4496-4593-8693-57334bacf36c",
   "metadata": {},
   "outputs": [],
   "source": [
    "world[world[\"SOVEREIGNT\"] == \"United States of America\"]"
   ]
  },
  {
   "cell_type": "markdown",
   "id": "43e95fa0-163f-49e7-b458-d83eb59af24e",
   "metadata": {},
   "source": [
    "Interesting. We got back the United States itself as well as its territory Puerto Rico. We can also just plot those results. "
   ]
  },
  {
   "cell_type": "code",
   "execution_count": null,
   "id": "6558c30b-b452-4357-b6f2-576d07f37fbd",
   "metadata": {
    "scrolled": true
   },
   "outputs": [],
   "source": [
    "usa = world[(world[\"SOVEREIGNT\"] == \"United States of America\")]\n",
    "\n",
    "# Plot the world map\n",
    "ax = usa.plot()"
   ]
  },
  {
   "cell_type": "markdown",
   "id": "1eaa084a-b43a-41ce-8262-87a095e02933",
   "metadata": {},
   "source": [
    "Let's zoom back out and bring in not just the whole world, but also all the bird strike data we have latitude and longtiudinal data for. Recall that we do not have latitude and longitude values for every record. Let's get that count. "
   ]
  },
  {
   "cell_type": "code",
   "execution_count": null,
   "id": "e8a9714c-bb22-46b2-aa2f-3af8f4eb7fb8",
   "metadata": {},
   "outputs": [],
   "source": [
    "import pandas as pd \n",
    "\n",
    "df = pd.read_csv('birdstrike_section2.csv')\n",
    "\n",
    "((df[\"LATITUDE\"].notna()) & df[\"LONGITUDE\"].notna()).value_counts()"
   ]
  },
  {
   "cell_type": "markdown",
   "id": "f164bf95-7136-446b-a9c1-0577ef59cb42",
   "metadata": {},
   "source": [
    "We have 121,359 records with latitude and longitude values, and 19,710 records that do not. We can live with that and explore why those locations were not provided. But we will let our plots ignore those missing values. \n",
    "\n",
    "Let's now create a separate `GeoDataFrame` called `gdf` that will take that bird strike data, but then add the `geometry` column using the `LONGITUDE` and `LATITUDE` columns. GeoPandas has a convenient function `points_from_xy` that will do that conversion. "
   ]
  },
  {
   "cell_type": "code",
   "execution_count": null,
   "id": "5e3cbef5-e856-483b-a815-968d6de9bacd",
   "metadata": {},
   "outputs": [],
   "source": [
    "import geopandas as gpd\n",
    "import matplotlib.pyplot as plt\n",
    "\n",
    "# Download the world shapefile from Natural Earth's website\n",
    "world = gpd.read_file(r\"resource/ne_110m_admin_0_countries/ne_110m_admin_0_countries.shp\")\n",
    "\n",
    "gdf = gpd.GeoDataFrame(df, geometry=gpd.points_from_xy(x=df[\"LONGITUDE\"],y=df[\"LATITUDE\"]),crs=\"EPSG:4326\")\n",
    "\n",
    "# Plot the world map\n",
    "ax = world.plot()\n",
    "\n",
    "gdf.plot(ax=ax, color='red', markersize=5)\n",
    "\n",
    "# Show the plot\n",
    "plt.show()"
   ]
  },
  {
   "cell_type": "markdown",
   "id": "d4efb14c-90f3-4b11-bf63-c14f75929042",
   "metadata": {},
   "source": [
    "And just for curiosity's sake, let's take a look at that `GeoDataFrame`. Sure enough, it has that `geometry` column which allows the plot above to be possible. "
   ]
  },
  {
   "cell_type": "code",
   "execution_count": null,
   "id": "30c6031e-9cbf-41c0-a5c7-6377eefc534e",
   "metadata": {},
   "outputs": [],
   "source": [
    "with pd.option_context('display.max_columns', None):\n",
    "    display(gdf)"
   ]
  },
  {
   "cell_type": "markdown",
   "id": "e7743e94-5bfc-4b95-8060-5cfcfaef7e3b",
   "metadata": {},
   "source": [
    "We can \"zoom in\" on just the United States if we like, as after all this data comes from an American agency: the FAA. This means we are going to see a heavy bias of US incidents since the FAA only tracks flights that are coming or going from the US. We can use a spatial join `sjoin()` to only include bird strikes that exist within the shapes of the States. "
   ]
  },
  {
   "cell_type": "code",
   "execution_count": null,
   "id": "bd510aa3-8cff-4e47-a045-cac982fbcc04",
   "metadata": {},
   "outputs": [],
   "source": [
    "import geopandas as gpd\n",
    "import matplotlib.pyplot as plt\n",
    "import pandas as pd \n",
    "\n",
    "usa = world[(world[\"SOVEREIGNT\"] == \"United States of America\") & (world[\"TYPE\"] == \"Country\")]\n",
    "\n",
    "# Plot the world map\n",
    "ax = usa.plot()\n",
    "\n",
    "# Plot only the USA points\n",
    "usa_points = gpd.sjoin(gdf, usa, predicate='within')\n",
    "usa_points.plot(ax=ax, color='red', markersize=.1)\n",
    "\n",
    "# Show the plot\n",
    "plt.show()"
   ]
  },
  {
   "cell_type": "markdown",
   "id": "e6414d7a-21ba-4e93-a1c1-bb49821c3347",
   "metadata": {},
   "source": [
    "## Provinces and States"
   ]
  },
  {
   "cell_type": "markdown",
   "id": "3eda3540-d1ea-4bb9-a065-6c24ecf58cae",
   "metadata": {},
   "source": [
    "Let's say we wanted to zoom in further. Let's bring in the states and provinces dataset. "
   ]
  },
  {
   "cell_type": "code",
   "execution_count": null,
   "id": "9a163ae4-478c-4945-bc2a-03d7064c89eb",
   "metadata": {},
   "outputs": [],
   "source": [
    "states = gpd.read_file(r\"resource/ne_110m_admin_1_states_provinces/ne_110m_admin_1_states_provinces.shp\")\n",
    "states"
   ]
  },
  {
   "cell_type": "markdown",
   "id": "ac01ba2f-4fbd-46cc-9f3c-0218b9eea18c",
   "metadata": {},
   "source": [
    "Notice when we plot the states, we now see borders. "
   ]
  },
  {
   "cell_type": "code",
   "execution_count": null,
   "id": "23f53cda-018d-403c-876f-5c0552a91697",
   "metadata": {},
   "outputs": [],
   "source": [
    "states.plot()"
   ]
  },
  {
   "cell_type": "markdown",
   "id": "19b3941a-c8a4-4543-8eb1-892011cbb1bc",
   "metadata": {},
   "source": [
    "Let's remove Alaska and Hawaii, and do a spatial join with only bird strikes in the mainland. "
   ]
  },
  {
   "cell_type": "code",
   "execution_count": null,
   "id": "5d366a62-acd9-48ba-a30f-ba6e2a9d2b16",
   "metadata": {},
   "outputs": [],
   "source": [
    "mainland = states[~states['name'].isin(['Alaska', 'Hawaii'])]\n",
    "\n",
    "mainland_points = gpd.sjoin(gdf, mainland, predicate='within')\n",
    "\n",
    "ax = mainland.plot()\n",
    "mainland_points.plot(ax=ax, color='red', markersize=.1)\n",
    "\n",
    "plt.show()"
   ]
  },
  {
   "cell_type": "markdown",
   "id": "26cfb611-7094-4799-8c25-f2d57c3e4cf3",
   "metadata": {},
   "source": [
    "For this next part, I want to also see the airports and see if bird strikes (unsurprisingly) happen near airports. Recall bird strikes are more likely to happen during takeoff and approach phases. Let's bring in this airport data I got from the FAA. "
   ]
  },
  {
   "cell_type": "code",
   "execution_count": null,
   "id": "19774b6e-bce5-4171-984f-6130ab381098",
   "metadata": {
    "scrolled": true
   },
   "outputs": [],
   "source": [
    "airports = pd.read_csv('resource/Airports.csv', usecols=['Icao_Ident','the_geom'])\n",
    "airports "
   ]
  },
  {
   "cell_type": "markdown",
   "id": "f721b1db-cce4-4f73-a53d-2dd94a37ba41",
   "metadata": {},
   "source": [
    "I only pulled in two columns, and notice that one of the columns has a column called `the_geom` which we would think would work with GeoPandas. For some reason it wasn't. So I am going to do some cleanup separating out those `Longitude` and `Latitude` columns with regular expressions, removing the boilerplate like the parantheses and `Point`, and then build a new GeoDataFrame around those two values. "
   ]
  },
  {
   "cell_type": "code",
   "execution_count": null,
   "id": "70d6c63e-d36b-4637-87dd-ee1f97d0ad00",
   "metadata": {},
   "outputs": [],
   "source": [
    "airports[['Longitude', 'Latitude']] = airports['the_geom'].str.split(r\"(?<=[0-9])[ ](?=[-0-9])\",regex=True, expand=True)\n",
    "\n",
    "airports['Longitude'] = airports['Longitude'].str.replace('[^-0-9.]','', regex=True)\n",
    "airports['Latitude'] = airports['Latitude'].str.replace('[^-0-9.]','', regex=True)\n",
    "\n",
    "airports = gpd.GeoDataFrame(airports, geometry=gpd.points_from_xy(x=airports[\"Longitude\"],y=airports[\"Latitude\"]),crs=\"EPSG:4326\")\n",
    "airports"
   ]
  },
  {
   "cell_type": "markdown",
   "id": "75323c45-87e8-4187-af0e-772932b2d72a",
   "metadata": {},
   "source": [
    "Now I can take a look at bird strikes alongside the airports. I am going to make the airports white dots, and for focus I am going to look at the state of Texas. "
   ]
  },
  {
   "cell_type": "code",
   "execution_count": null,
   "id": "9470d63f-abfc-4b88-99c4-a2ae6834aba0",
   "metadata": {},
   "outputs": [],
   "source": [
    "texas = states[states['name'].isin(['Texas'])]\n",
    "\n",
    "texas_points = gpd.sjoin(gdf, texas, predicate='within')\n",
    "texas_airports = gpd.sjoin(airports, texas, predicate='within')\n",
    "\n",
    "ax = texas.plot()\n",
    "texas_airports.plot(ax=ax, color='white', markersize=1)\n",
    "texas_points.plot(ax=ax, color='red', markersize=2)\n",
    "\n",
    "plt.show()"
   ]
  },
  {
   "cell_type": "markdown",
   "id": "7bdbeecb-89f3-49ae-aa82-e9e52dc9663f",
   "metadata": {},
   "source": [
    "It does look like a lot of bird strikes where there are a cluster of more airports. I do wonder if that North Texas cluster has many bird strikes for DFW-related flights. DFW is famously busy on a global level. Can you go investigate that? \n",
    "\n",
    "Let's look at Florida too. "
   ]
  },
  {
   "cell_type": "code",
   "execution_count": null,
   "id": "d91982d5-3ca5-4343-baac-526f53cc9075",
   "metadata": {},
   "outputs": [],
   "source": [
    "florida = states[states['name'].isin(['Florida'])]\n",
    "\n",
    "florida_points = gpd.sjoin(gdf, florida, predicate='within')\n",
    "florida_airports = gpd.sjoin(airports, florida, predicate='within')\n",
    "\n",
    "ax = florida.plot()\n",
    "florida_airports.plot(ax=ax, color='white', markersize=1)\n",
    "florida_points.plot(ax=ax, color='red', markersize=2)\n",
    "\n",
    "plt.show()"
   ]
  },
  {
   "cell_type": "markdown",
   "id": "7d753d2d-0260-4a4d-9e69-6c078d832208",
   "metadata": {},
   "source": [
    "There's less of an obvious signal at Florida. It might help if we filter out airports that are small or tiny airstrips, and we could filter this by the number of flights per day. There's a lot of intersting analysis we could do here especially as we bring in more outside data! But in the interest of time we will wrap up here. I encourage you to chase down this data and keep exploring! "
   ]
  },
  {
   "cell_type": "markdown",
   "id": "300bbec9-9cac-4ea3-a28e-d84d6e52bf24",
   "metadata": {},
   "source": [
    "## Exercise"
   ]
  },
  {
   "cell_type": "markdown",
   "id": "a01079ae-2361-4b39-ba8a-6278d36a7203",
   "metadata": {},
   "source": [
    "Complete the code (by replacing the question marks \"?\") below to plot bird strikes and airports in the state of New York. "
   ]
  },
  {
   "cell_type": "code",
   "execution_count": null,
   "id": "972ec3de-2557-44d3-8d3d-bdcf6dfb7092",
   "metadata": {},
   "outputs": [],
   "source": [
    "import geopandas as gpd\n",
    "import pandas as pd \n",
    "import matplotlib.pyplot as plt\n",
    "\n",
    "df = pd.read_csv('birdstrike_section2.csv')\n",
    "gdf = gpd.GeoDataFrame(?, geometry=gpd.points_from_xy(x=df[\"LONGITUDE\"],y=df[\"LATITUDE\"]),crs=\"EPSG:4326\")\n",
    "states = gpd.read_file(r\"resource/ne_110m_admin_1_states_provinces/ne_110m_admin_1_states_provinces.shp\")\n",
    "\n",
    "airports = pd.read_csv('resource/Airports.csv', usecols=['Icao_Ident','the_geom'])\n",
    "airports[['Longitude', 'Latitude']] = airports['the_geom'].str.split(r\"(?<=[0-9])[ ](?=[-0-9])\",regex=True, expand=True)\n",
    "airports['Longitude'] = airports['Longitude'].str.replace('[^-0-9.]','', regex=True)\n",
    "airports['Latitude'] = airports['Latitude'].str.replace('[^-0-9.]','', regex=True)\n",
    "airports = gpd.GeoDataFrame(?, geometry=gpd.points_from_xy(x=airports[\"Longitude\"],y=airports[\"Latitude\"]),crs=\"EPSG:4326\")\n",
    "\n",
    "new_york = states[states['name'].isin(['New York'])]\n",
    "\n",
    "new_york_points = gpd.sjoin(?, ?, predicate=?)\n",
    "new_york_airports = gpd.sjoin(?, ?, predicate=?)\n",
    "\n",
    "ax = new_york.plot()\n",
    "new_york_airports.plot(ax=ax, color='white', markersize=1)\n",
    "new_york_points.plot(ax=ax, color='red', markersize=2)\n",
    "\n",
    "plt.show()"
   ]
  },
  {
   "cell_type": "markdown",
   "id": "d4dd13eb-9333-4d4f-84eb-fa603818e8a0",
   "metadata": {},
   "source": [
    "### SCROLL DOWN FOR ANSWER\n",
    "|<br>\n",
    "|<br>\n",
    "|<br>\n",
    "|<br>\n",
    "|<br>\n",
    "|<br>\n",
    "|<br>\n",
    "|<br>\n",
    "|<br>\n",
    "|<br>\n",
    "|<br>\n",
    "|<br>\n",
    "|<br>\n",
    "|<br>\n",
    "|<br>\n",
    "|<br>\n",
    "|<br>\n",
    "|<br>\n",
    "|<br>\n",
    "|<br>\n",
    "|<br>\n",
    "|<br>\n",
    "|<br>\n",
    "v "
   ]
  },
  {
   "cell_type": "code",
   "execution_count": null,
   "id": "4254f418-d18a-4dc9-bc35-ac9713d40fd4",
   "metadata": {},
   "outputs": [],
   "source": [
    "import geopandas as gpd\n",
    "import pandas as pd \n",
    "import matplotlib.pyplot as plt\n",
    "\n",
    "df = pd.read_csv('birdstrike_section2.csv')\n",
    "gdf = gpd.GeoDataFrame(df, geometry=gpd.points_from_xy(x=df[\"LONGITUDE\"],y=df[\"LATITUDE\"]),crs=\"EPSG:4326\")\n",
    "states = gpd.read_file(r\"resource/ne_110m_admin_1_states_provinces/ne_110m_admin_1_states_provinces.shp\")\n",
    "\n",
    "airports = pd.read_csv('resource/Airports.csv', usecols=['Icao_Ident','the_geom'])\n",
    "airports[['Longitude', 'Latitude']] = airports['the_geom'].str.split(r\"(?<=[0-9])[ ](?=[-0-9])\",regex=True, expand=True)\n",
    "airports['Longitude'] = airports['Longitude'].str.replace('[^-0-9.]','', regex=True)\n",
    "airports['Latitude'] = airports['Latitude'].str.replace('[^-0-9.]','', regex=True)\n",
    "airports = gpd.GeoDataFrame(airports, geometry=gpd.points_from_xy(x=airports[\"Longitude\"],y=airports[\"Latitude\"]),crs=\"EPSG:4326\")\n",
    "\n",
    "new_york = states[states['name'].isin(['New York'])]\n",
    "\n",
    "new_york_points = gpd.sjoin(gdf, new_york, predicate='within')\n",
    "new_york_airports = gpd.sjoin(airports, new_york, predicate='within')\n",
    "\n",
    "ax = new_york.plot()\n",
    "new_york_airports.plot(ax=ax, color='white', markersize=1)\n",
    "new_york_points.plot(ax=ax, color='red', markersize=2)\n",
    "\n",
    "plt.show()"
   ]
  }
 ],
 "metadata": {
  "kernelspec": {
   "display_name": "anaconda-panel-2023.05-py310",
   "language": "python",
   "name": "conda-env-anaconda-panel-2023.05-py310-py"
  },
  "language_info": {
   "codemirror_mode": {
    "name": "ipython",
    "version": 3
   },
   "file_extension": ".py",
   "mimetype": "text/x-python",
   "name": "python",
   "nbconvert_exporter": "python",
   "pygments_lexer": "ipython3",
   "version": "3.11.5"
  }
 },
 "nbformat": 4,
 "nbformat_minor": 5
}
